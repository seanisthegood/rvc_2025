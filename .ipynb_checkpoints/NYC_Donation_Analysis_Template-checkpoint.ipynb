{
 "cells": [
  {
   "cell_type": "markdown",
   "id": "d16361fe",
   "metadata": {},
   "source": [
    "# NYC Donation Analysis: Coalition + Geography (Zohran vs Cuomo et al)"
   ]
  },
  {
   "cell_type": "code",
   "execution_count": null,
   "id": "6b7d62f1",
   "metadata": {},
   "outputs": [],
   "source": [
    "import pad"
   ]
  },
  {
   "cell_type": "code",
   "execution_count": null,
   "id": "3a68f663",
   "metadata": {},
   "outputs": [],
   "source": [
    "import pandas as pd\n",
    "\n",
    "# Load candidate CSVs\n",
    "zohran_df = pd.read_csv(\"Zohran.csv\")\n",
    "cuomo_df = pd.read_csv(\"Cuomo.csv\")\n",
    "garcia_df = pd.read_csv(\"Garcia.csv\")\n",
    "wiley_df = pd.read_csv(\"Maya.csv\")\n",
    "yang_df = pd.read_csv(\"Yang.csv\")\n",
    "adams_df = pd.read_csv(\"Mayor_Adams_2021.csv\")\n"
   ]
  },
  {
   "cell_type": "code",
   "execution_count": null,
   "id": "80dd36ed",
   "metadata": {},
   "outputs": [],
   "source": [
    "# Clean ZIP codes\n",
    "def clean_zip(df):\n",
    "    df[\"ZIP\"] = df[\"ZIP\"].astype(str).str.zfill(5)\n",
    "    return df\n",
    "\n",
    "dfs = [zohran_df, cuomo_df, garcia_df, wiley_df, yang_df, adams_df]\n",
    "dfs = [clean_zip(df) for df in dfs]\n",
    "zohran_df, cuomo_df, garcia_df, wiley_df, yang_df, adams_df = dfs\n"
   ]
  },
  {
   "cell_type": "code",
   "execution_count": null,
   "id": "4fc4d4fc",
   "metadata": {},
   "outputs": [],
   "source": [
    "from functools import reduce\n",
    "\n",
    "def count_by_zip(df, name):\n",
    "    return df[\"ZIP\"].value_counts().rename(name).to_frame()\n",
    "\n",
    "zip_counts = reduce(\n",
    "    lambda left, right: left.join(right, how=\"outer\"),\n",
    "    [count_by_zip(zohran_df, \"Zohran\"),\n",
    "     count_by_zip(cuomo_df, \"Cuomo\"),\n",
    "     count_by_zip(wiley_df, \"Wiley\"),\n",
    "     count_by_zip(garcia_df, \"Garcia\"),\n",
    "     count_by_zip(yang_df, \"Yang\"),\n",
    "     count_by_zip(adams_df, \"Adams\")]\n",
    ").fillna(0).astype(int)\n",
    "\n",
    "zip_counts[\"Progressive_Total\"] = zip_counts[[\"Zohran\", \"Wiley\", \"Garcia\"]].sum(axis=1)\n",
    "zip_counts[\"Centrist_Total\"] = zip_counts[[\"Cuomo\", \"Adams\", \"Yang\"]].sum(axis=1)\n",
    "zip_counts[\"Margin\"] = zip_counts[\"Progressive_Total\"] - zip_counts[\"Centrist_Total\"]\n",
    "zip_counts = zip_counts.sort_values(by=\"Margin\")\n",
    "zip_counts.head(10)\n"
   ]
  },
  {
   "cell_type": "code",
   "execution_count": null,
   "id": "faa663aa",
   "metadata": {},
   "outputs": [],
   "source": [
    "import matplotlib.pyplot as plt\n",
    "\n",
    "# Top 10 ZIPs for Zohran\n",
    "zohran_top = zip_counts[\"Zohran\"].sort_values(ascending=False).head(10)\n",
    "\n",
    "zohran_top.plot(kind=\"barh\", color=\"purple\", title=\"Top ZIPs for Zohran\")\n",
    "plt.xlabel(\"Donations\")\n",
    "plt.gca().invert_yaxis()\n",
    "plt.tight_layout()\n",
    "plt.show()\n"
   ]
  },
  {
   "cell_type": "markdown",
   "id": "8038cfe7",
   "metadata": {},
   "source": [
    "## Optional: Add a WKT-based map using GeoPandas + shapefile or WKT CSV"
   ]
  }
 ],
 "metadata": {
  "kernelspec": {
   "display_name": "Python 3 (ipykernel)",
   "language": "python",
   "name": "python3"
  },
  "language_info": {
   "codemirror_mode": {
    "name": "ipython",
    "version": 3
   },
   "file_extension": ".py",
   "mimetype": "text/x-python",
   "name": "python",
   "nbconvert_exporter": "python",
   "pygments_lexer": "ipython3",
   "version": "3.8.2"
  }
 },
 "nbformat": 4,
 "nbformat_minor": 5
}
